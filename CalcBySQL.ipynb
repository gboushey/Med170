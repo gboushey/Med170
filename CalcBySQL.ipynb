{
 "cells": [
  {
   "cell_type": "code",
   "execution_count": null,
   "metadata": {
    "collapsed": true
   },
   "outputs": [],
   "source": [
    "# scenario - let's investigate the breakdown in distribution of blood pressure \n",
    "# by the age and female fields. "
   ]
  },
  {
   "cell_type": "code",
   "execution_count": null,
   "metadata": {
    "collapsed": true
   },
   "outputs": [],
   "source": [
    "import pandas as pd\n",
    "from pandasql import sqldf\n",
    "pysqldf = lambda q: sqldf(q, globals())"
   ]
  },
  {
   "cell_type": "code",
   "execution_count": null,
   "metadata": {
    "collapsed": true
   },
   "outputs": [],
   "source": [
    "df = pd.read_csv('data/hrs_clin_pandas.csv')"
   ]
  },
  {
   "cell_type": "code",
   "execution_count": null,
   "metadata": {
    "collapsed": true
   },
   "outputs": [],
   "source": [
    "#sqldf(\"SELECT * FROM df WHERE age > 75 AND bp_stage_id > 3\")"
   ]
  },
  {
   "cell_type": "code",
   "execution_count": null,
   "metadata": {},
   "outputs": [],
   "source": [
    "sqldf(\"SELECT bp_stage_id, count(id) FROM df GROUP BY bp_stage_id\")"
   ]
  },
  {
   "cell_type": "code",
   "execution_count": null,
   "metadata": {
    "collapsed": true
   },
   "outputs": [],
   "source": [
    "stage_female = sqldf(\"SELECT female, bp_stage_id, count(id) as patient_count, \\\n",
    "      (CASE WHEN female = 'yes' THEN (count(id) / 1458.0) ELSE (count(id) / 936.0) END) AS prctg \\\n",
    "      FROM df \\\n",
    "      WHERE female != 'None' \\\n",
    "      GROUP BY female, bp_stage_id \\\n",
    "      ORDER BY bp_stage_id, female\")"
   ]
  },
  {
   "cell_type": "code",
   "execution_count": null,
   "metadata": {},
   "outputs": [],
   "source": [
    "stage_female"
   ]
  },
  {
   "cell_type": "code",
   "execution_count": null,
   "metadata": {
    "collapsed": true
   },
   "outputs": [],
   "source": [
    "# this is ok, but not great. we could plot this in a bar chart\n",
    "%matplotlib inline\n",
    "import matplotlib.pyplot as plt"
   ]
  },
  {
   "cell_type": "code",
   "execution_count": null,
   "metadata": {},
   "outputs": [],
   "source": [
    "plt.style.use('ggplot')\n",
    "stage_female.plot(kind='bar')\n",
    "plt.ylabel('Number in BP Stage')\n",
    "plt.xlabel('BP Stage')"
   ]
  },
  {
   "cell_type": "code",
   "execution_count": null,
   "metadata": {
    "collapsed": true
   },
   "outputs": [],
   "source": [
    "stages = []\n",
    "counts_f = []\n",
    "counts_nf = []\n",
    "percentages_f = []\n",
    "percentages_nf = []\n",
    "\n",
    "for index, row in stage_female.iterrows():\n",
    "    if index % 2 == 0:\n",
    "        stages.append(int(index/2 + 1))\n",
    "    if row['female'] == 'yes':\n",
    "        counts_f.append(row['patient_count'])\n",
    "        percentages_f.append(row['prctg'])\n",
    "    elif row['female'] == 'no':\n",
    "        counts_nf.append(row['patient_count'])\n",
    "        percentages_nf.append(row['prctg'])"
   ]
  },
  {
   "cell_type": "code",
   "execution_count": null,
   "metadata": {},
   "outputs": [],
   "source": [
    "print(stages)\n",
    "print(counts_f)\n",
    "print(percentages_f)\n",
    "print(counts_nf)\n",
    "print(percentages_nf)"
   ]
  },
  {
   "cell_type": "code",
   "execution_count": null,
   "metadata": {
    "collapsed": true
   },
   "outputs": [],
   "source": [
    "stages_df = pd.DataFrame({'stages': stages, 'counts_f': counts_f, \n",
    "                   'counts_nf': counts_nf, 'percentages_f': percentages_f, \n",
    "                   'percentages_nf': percentages_nf})\n"
   ]
  },
  {
   "cell_type": "code",
   "execution_count": null,
   "metadata": {
    "collapsed": true
   },
   "outputs": [],
   "source": [
    "stages_df.set_index('stages', inplace=True)"
   ]
  },
  {
   "cell_type": "code",
   "execution_count": null,
   "metadata": {},
   "outputs": [],
   "source": [
    "stages_df"
   ]
  },
  {
   "cell_type": "code",
   "execution_count": null,
   "metadata": {
    "collapsed": true
   },
   "outputs": [],
   "source": []
  },
  {
   "cell_type": "code",
   "execution_count": null,
   "metadata": {},
   "outputs": [],
   "source": [
    "plt.style.use('ggplot')\n",
    "stages_df[['counts_f', 'counts_nf']].plot(kind='bar')\n",
    "plt.ylabel('Number in BP Stage')\n",
    "plt.xlabel('BP Stage')"
   ]
  },
  {
   "cell_type": "code",
   "execution_count": null,
   "metadata": {},
   "outputs": [],
   "source": [
    "plt.style.use('ggplot')\n",
    "stages_df[['percentages_f', 'percentages_nf']].plot(kind='bar')\n",
    "plt.ylabel('Percentage in BP Stage')\n",
    "plt.xlabel('BP Stage')"
   ]
  },
  {
   "cell_type": "code",
   "execution_count": null,
   "metadata": {
    "collapsed": true
   },
   "outputs": [],
   "source": []
  },
  {
   "cell_type": "code",
   "execution_count": null,
   "metadata": {
    "collapsed": true
   },
   "outputs": [],
   "source": []
  }
 ],
 "metadata": {
  "kernelspec": {
   "display_name": "Python 3",
   "language": "python",
   "name": "python3"
  },
  "language_info": {
   "codemirror_mode": {
    "name": "ipython",
    "version": 3
   },
   "file_extension": ".py",
   "mimetype": "text/x-python",
   "name": "python",
   "nbconvert_exporter": "python",
   "pygments_lexer": "ipython3",
   "version": "3.5.4"
  }
 },
 "nbformat": 4,
 "nbformat_minor": 2
}

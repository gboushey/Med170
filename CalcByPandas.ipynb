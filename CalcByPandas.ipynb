{
 "cells": [
  {
   "cell_type": "code",
   "execution_count": null,
   "metadata": {
    "collapsed": true
   },
   "outputs": [],
   "source": [
    "# this workbook is a case study, an example of some data manipulations that are necessary to\n",
    "# print a histogram of the number of people in each blood pressure category,\n",
    "# broken down by male/female\n",
    "# one will be absolute numbers\n",
    "# the other will as a percentage"
   ]
  },
  {
   "cell_type": "code",
   "execution_count": null,
   "metadata": {
    "collapsed": true
   },
   "outputs": [],
   "source": [
    "import pandas as pd"
   ]
  },
  {
   "cell_type": "code",
   "execution_count": null,
   "metadata": {
    "collapsed": true
   },
   "outputs": [],
   "source": [
    "df = pd.read_csv('data/hrs_clin_pandas.csv')"
   ]
  },
  {
   "cell_type": "code",
   "execution_count": null,
   "metadata": {
    "collapsed": true
   },
   "outputs": [],
   "source": [
    "# first, let's get total counts for female and male patients\n",
    "# remember, in this database, the column name is female, so \n",
    "# measurements will be boolean (T/F) Values"
   ]
  },
  {
   "cell_type": "code",
   "execution_count": null,
   "metadata": {
    "collapsed": true
   },
   "outputs": [],
   "source": [
    "count_female = df.groupby(['female'], as_index=False)['id'].count()\n",
    "count_female"
   ]
  },
  {
   "cell_type": "code",
   "execution_count": null,
   "metadata": {
    "collapsed": true
   },
   "outputs": [],
   "source": [
    "stage_female = df.groupby(['bp_stage_id', 'female'], as_index=False)"
   ]
  },
  {
   "cell_type": "code",
   "execution_count": null,
   "metadata": {
    "collapsed": true
   },
   "outputs": [],
   "source": [
    "#stage_female.describe()"
   ]
  },
  {
   "cell_type": "code",
   "execution_count": null,
   "metadata": {
    "collapsed": true
   },
   "outputs": [],
   "source": [
    "# this gives it to you but not as a number\n",
    "stage_female = stage_female.count()[['bp_stage_id', 'female', 'id']]"
   ]
  },
  {
   "cell_type": "code",
   "execution_count": null,
   "metadata": {
    "collapsed": true
   },
   "outputs": [],
   "source": [
    "#sf_count"
   ]
  },
  {
   "cell_type": "code",
   "execution_count": null,
   "metadata": {
    "collapsed": true
   },
   "outputs": [],
   "source": [
    "import numpy as np\n",
    "stage_female['prctg'] = np.where(stage_female['female'] == 'true', stage_female['id'] / 1458, stage_female['id'] / 936)"
   ]
  },
  {
   "cell_type": "code",
   "execution_count": null,
   "metadata": {
    "collapsed": true
   },
   "outputs": [],
   "source": [
    "stage_female.rename(columns={'id': 'patient_count'}, inplace=True)"
   ]
  },
  {
   "cell_type": "code",
   "execution_count": null,
   "metadata": {
    "collapsed": true
   },
   "outputs": [],
   "source": [
    "# this could work, but it's still not quite what we want for charting and plotting."
   ]
  },
  {
   "cell_type": "code",
   "execution_count": null,
   "metadata": {},
   "outputs": [],
   "source": [
    "stage_female"
   ]
  },
  {
   "cell_type": "code",
   "execution_count": null,
   "metadata": {
    "collapsed": true
   },
   "outputs": [],
   "source": [
    "# we need to convert it to a chart with stage id broken down by M and F for each stage\n",
    "# there are different ways to do this, we'll do it by creating a new set of lists"
   ]
  },
  {
   "cell_type": "code",
   "execution_count": null,
   "metadata": {
    "collapsed": true
   },
   "outputs": [],
   "source": [
    "stages = []\n",
    "counts_f = []\n",
    "counts_nf = []\n",
    "percentages_f = []\n",
    "percentages_nf = []\n",
    "\n",
    "for index, row in stage_female.iterrows():\n",
    "    if index % 2 == 0:\n",
    "        stages.append(int(index/2 + 1))\n",
    "    if row['female'] == 'yes':\n",
    "        counts_f.append(row['patient_count'])\n",
    "        percentages_f.append(row['prctg'])\n",
    "    elif row['female'] == 'no':\n",
    "        counts_nf.append(row['patient_count'])\n",
    "        percentages_nf.append(row['prctg'])"
   ]
  },
  {
   "cell_type": "code",
   "execution_count": null,
   "metadata": {},
   "outputs": [],
   "source": [
    "print(stages)\n",
    "print(counts_f)\n",
    "print(percentages_f)\n",
    "print(counts_nf)\n",
    "print(percentages_nf)"
   ]
  },
  {
   "cell_type": "code",
   "execution_count": null,
   "metadata": {
    "collapsed": true
   },
   "outputs": [],
   "source": [
    "stages_df = pd.DataFrame({'stages': stages, 'count_f': counts_f, \n",
    "                   'count_nf': counts_nf, 'percentage_f': percentages_f, \n",
    "                   'percentage_nf': percentages_nf})"
   ]
  },
  {
   "cell_type": "code",
   "execution_count": null,
   "metadata": {
    "collapsed": true
   },
   "outputs": [],
   "source": [
    "stages_df.set_index('stages', inplace=True)"
   ]
  },
  {
   "cell_type": "code",
   "execution_count": null,
   "metadata": {},
   "outputs": [],
   "source": [
    "stages_df"
   ]
  },
  {
   "cell_type": "code",
   "execution_count": null,
   "metadata": {
    "collapsed": true
   },
   "outputs": [],
   "source": [
    "%matplotlib inline\n",
    "import matplotlib.pyplot as plt"
   ]
  },
  {
   "cell_type": "code",
   "execution_count": null,
   "metadata": {},
   "outputs": [],
   "source": [
    "plt.style.use('ggplot')\n",
    "stages_df[['count_f', 'count_nf']].plot(kind='bar')\n",
    "plt.ylabel('Number in BP Stage')\n",
    "plt.xlabel('BP Stage')"
   ]
  },
  {
   "cell_type": "code",
   "execution_count": null,
   "metadata": {},
   "outputs": [],
   "source": [
    "plt.style.use('ggplot')\n",
    "stages_df[['percentage_f', 'percentage_nf']].plot(kind='bar')\n",
    "plt.ylabel('Percentage in BP Stage')\n",
    "plt.xlabel('BP Stage')"
   ]
  },
  {
   "cell_type": "code",
   "execution_count": null,
   "metadata": {
    "collapsed": true
   },
   "outputs": [],
   "source": []
  }
 ],
 "metadata": {
  "kernelspec": {
   "display_name": "Python 3",
   "language": "python",
   "name": "python3"
  },
  "language_info": {
   "codemirror_mode": {
    "name": "ipython",
    "version": 3
   },
   "file_extension": ".py",
   "mimetype": "text/x-python",
   "name": "python",
   "nbconvert_exporter": "python",
   "pygments_lexer": "ipython3",
   "version": "3.5.4"
  }
 },
 "nbformat": 4,
 "nbformat_minor": 2
}
